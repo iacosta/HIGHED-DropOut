{
 "cells": [
  {
   "cell_type": "markdown",
   "metadata": {
    "slideshow": {
     "slide_type": "-"
    }
   },
   "source": [
    "# Analisis Exploratorio Dataset DEMOGRAFICOS"
   ]
  },
  {
   "cell_type": "markdown",
   "metadata": {},
   "source": [
    "El análisis univariado es quizás la forma más simple de análisis estadístico. El hecho clave es que sólo interviene una variable.\n",
    "\n",
    "<center>** Indice del Proyecto **</center>\n",
    "\n",
    "* [Configuración y Carga de Datos](#setup)\n",
    "* [Preprocesamiento de Datos](#preprocessing)\n",
    "* [Análisis estadístico y visualización](#general)\n",
    "\n",
    "## Configuración y Carga del DataSet <a id=\"setup\" /> "
   ]
  },
  {
   "cell_type": "code",
   "execution_count": 28,
   "metadata": {
    "collapsed": false
   },
   "outputs": [
    {
     "name": "stdout",
     "output_type": "stream",
     "text": [
      "Populating the interactive namespace from numpy and matplotlib\n"
     ]
    }
   ],
   "source": [
    "%pylab inline"
   ]
  },
  {
   "cell_type": "code",
   "execution_count": 29,
   "metadata": {
    "collapsed": true
   },
   "outputs": [],
   "source": [
    "import dataiku                               # Acceso al Dataset para Dataiku\n",
    "import pandas as pd, numpy as np             # Manipulación de Datos\n",
    "from matplotlib import pyplot as plt         # Graficos \n",
    "import seaborn as sns                        # Graficos\n",
    "#sns.set(style=\"white\")                       # Tuning the style of charts\n",
    "import warnings                              # Desahabilitar algunos warnings\n",
    "warnings.filterwarnings(\"ignore\",category=DeprecationWarning)\n",
    "from scipy import stats                      # Estadisticas"
   ]
  },
  {
   "cell_type": "markdown",
   "metadata": {},
   "source": [
    "Lo primero que hacemos ahora es cargar el conjunto de datos y poner a un lado los tres tipos principales de columnas:\n",
    "\n",
    "* Numericos\n",
    "* Categórico\n",
    "* Fechas\n",
    "\n",
    "El análisis estadístico requiere tener los datos en memoria, sólo vamos a cargar una muestra de los datos. En caso de ser necesario se puede modificar la siguiente linea para aumentar el tamaño de los datos."
   ]
  },
  {
   "cell_type": "code",
   "execution_count": 30,
   "metadata": {
    "collapsed": true
   },
   "outputs": [],
   "source": [
    "dataset_limit = 10000"
   ]
  },
  {
   "cell_type": "markdown",
   "metadata": {},
   "source": [
    "Carga del Dataset de Acuerdo al parametro anterior"
   ]
  },
  {
   "cell_type": "code",
   "execution_count": 31,
   "metadata": {
    "collapsed": false
   },
   "outputs": [
    {
     "name": "stdout",
     "output_type": "stream",
     "text": [
      "DataSet Cargado\n",
      "   Registros: 10000\n",
      "   Columnas: 21 (7 numericas, 14 categoricas, 0 de Fecha)\n"
     ]
    }
   ],
   "source": [
    "mydataset = dataiku.Dataset(\"DEMOGRAFICOS\")\n",
    "df = mydataset.get_dataframe(limit = dataset_limit)\n",
    "df_orig = df.copy()\n",
    "\n",
    "# Obtener los datos de las columnas\n",
    "numericas_columns = list(df.select_dtypes(include=[np.number]).columns)\n",
    "categoricas_columns = list(df.select_dtypes(include=[object]).columns)\n",
    "fecha_columns = list(df.select_dtypes(include=['<M8[ns]']).columns)\n",
    "\n",
    "# Imprime un breve resumen de lo que acabamos de cargar\n",
    "print \"DataSet Cargado\"\n",
    "print \"   Registros: %s\" % df.shape[0]\n",
    "print \"   Columnas: %s (%s numericas, %s categoricas, %s de Fecha)\" % (df.shape[1], \n",
    "                                                    len(numericas_columns), len(categoricas_columns),\n",
    "                                                    len(fecha_columns))"
   ]
  },
  {
   "cell_type": "markdown",
   "metadata": {},
   "source": [
    "## Preprocesamiento de Datos <a id=\"preprocessing\" />"
   ]
  },
  {
   "cell_type": "code",
   "execution_count": 32,
   "metadata": {
    "collapsed": false
   },
   "outputs": [
    {
     "name": "stdout",
     "output_type": "stream",
     "text": [
      "Columna Seleccionada 'EDAD'\n",
      "Columna 'EDAD' con 32.103\n"
     ]
    }
   ],
   "source": [
    "value_col = 'EDAD'\n",
    "print \"Columna Seleccionada '%s'\" % (value_col)\n",
    "v = df[value_col].mean()\n",
    "if np.isnan(v):\n",
    "    v = 0\n",
    "print \"Columna '%s' con %s\" % (value_col, v)\n",
    "df[value_col] = df[value_col].fillna(v)\n",
    "df_pop_1 = df[value_col]"
   ]
  },
  {
   "cell_type": "markdown",
   "metadata": {},
   "source": [
    "## Analisis Estadistico y Visualización <a id=\"general\" /a>"
   ]
  },
  {
   "cell_type": "markdown",
   "metadata": {},
   "source": [
    "### Estadísticas generales\n",
    "Número de registros, media, desviación estándar, valor mínimo, cuartiles, valor máximo, modo, varianza, asimetría y kurtosis."
   ]
  },
  {
   "cell_type": "code",
   "execution_count": 33,
   "metadata": {
    "collapsed": false
   },
   "outputs": [
    {
     "name": "stdout",
     "output_type": "stream",
     "text": [
      "Estadistica sobre la serie:\n",
      "count       10000.000000\n",
      "mean           32.103000\n",
      "std             6.968045\n",
      "min            18.000000\n",
      "25%            27.000000\n",
      "50%            31.000000\n",
      "75%            36.000000\n",
      "max            65.000000\n",
      "mode           30.000000\n",
      "var            48.553646\n",
      "skew            0.876978\n",
      "kurtosis        0.777347\n",
      "dtype: float64\n"
     ]
    }
   ],
   "source": [
    "additional_stats = [\"var\", \"skew\", \"kurtosis\"]\n",
    "print \"Estadistica sobre la serie:\\n\", df_pop_1.describe().append(pd.Series(NaN if df_pop_1.mode().empty else df_pop_1.mode()[0], index=[\"mode\"])).append(pd.Series([df_pop_1.__getattr__(x)() for x in additional_stats], index=additional_stats))"
   ]
  },
  {
   "cell_type": "markdown",
   "metadata": {},
   "source": [
    "### Histograma\n",
    "Los histogramas le permiten ver el número de ocurrencias en su columna de valores."
   ]
  },
  {
   "cell_type": "markdown",
   "metadata": {
    "collapsed": false
   },
   "source": [
    "plt.title(\"Histograma \"+value_col);\n",
    "plt.hist(df_pop_1);"
   ]
  },
  {
   "cell_type": "markdown",
   "metadata": {},
   "source": [
    "### Distplot\n",
    "Distplots combinan un histograma con una estimación de la densidad del núcleo."
   ]
  },
  {
   "cell_type": "code",
   "execution_count": 34,
   "metadata": {
    "collapsed": false
   },
   "outputs": [
    {
     "data": {
      "image/png": "[encoded data removed]",
      "text/plain": [
       "<matplotlib.figure.Figure at 0x7fd8244ca810>"
      ]
     },
     "metadata": {},
     "output_type": "display_data"
    }
   ],
   "source": [
    "sns.distplot(df_pop_1);"
   ]
  },
  {
   "cell_type": "markdown",
   "metadata": {},
   "source": [
    "### Boxplot\n",
    "Una forma sencilla de representar los datos estadísticos en una gráfica en la que se dibuja un rectángulo para representar el segundo y tercer cuartil, con una línea vertical dentro para indicar el valor medio. Los cuartiles inferior y superior se muestran como líneas horizontales a cada lado del rectángulo."
   ]
  },
  {
   "cell_type": "code",
   "execution_count": 35,
   "metadata": {
    "collapsed": false
   },
   "outputs": [
    {
     "data": {
      "image/png": "[encoded data removed]",
      "text/plain": [
       "<matplotlib.figure.Figure at 0x7fd8245a8910>"
      ]
     },
     "metadata": {},
     "output_type": "display_data"
    }
   ],
   "source": [
    "sns.boxplot(df_pop_1);"
   ]
  },
  {
   "cell_type": "markdown",
   "metadata": {},
   "source": [
    "### Violin Plot\n",
    "El diagrama de violín es similar a los diagramas de caja, excepto que también muestran la densidad de probabilidad de los datos en diferentes valores. Las gráficas de violín incluyen un marcador para la mediana de los datos y una caja indicando el rango intercuartil, como en las gráficas de caja estándar. Sobrepuesto en esta gráfica de caja hay una estimación de la densidad del núcleo."
   ]
  }
 ],
 "metadata": {
  "creator": "admin",
  "kernelspec": {
   "display_name": "Python 2",
   "language": "python",
   "name": "python2"
  },
  "language_info": {
   "codemirror_mode": {
    "name": "ipython",
    "version": 2
   },
   "file_extension": ".py",
   "mimetype": "text/x-python",
   "name": "python",
   "nbconvert_exporter": "python",
   "pygments_lexer": "ipython2",
   "version": "2.7.12+"
  }
 },
 "nbformat": 4,
 "nbformat_minor": 0
}
